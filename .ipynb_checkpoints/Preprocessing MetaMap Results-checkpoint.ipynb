{
 "metadata": {
  "name": "",
  "signature": "sha256:841270864ff792179c564f3da559a3e0ddae7e56d0b8fabcef3253ccea198d45"
 },
 "nbformat": 3,
 "nbformat_minor": 0,
 "worksheets": [
  {
   "cells": [
    {
     "cell_type": "code",
     "collapsed": false,
     "input": [
      "import csv\n",
      "\n",
      "\n",
      "start_string = \"Processing text_000N_19940\"\n",
      "\n",
      "path = \"/Users/phuong/Documents/AAAI_Project/MetaMap_Results_TitlesOnly.txt\"\n",
      "drug_entities_dict = {}\n",
      "count = 0\n",
      "with open(path, 'r') as f:\n",
      "    for line in f:\n",
      "        line = line.replace(\"\\n\", \"\")\n",
      "        if start_string in line:\n",
      "            count = count + 1\n",
      "            string = 'tx.' + str(count) + \": \"\n",
      "            title = line.split(string)[1]\n",
      "            title = title.lstrip()\n",
      "            title = title.rstrip()\n",
      "            print title\n",
      "            drug_entities_dict[title] = []\n",
      "            continue\n",
      "        if \"Pharmacologic Substance\" in line:\n",
      "            drug_entities_dict[title].append(line)\n",
      "print len(drug_entities_dict)\n",
      "\n",
      "drug_entities_articles_dict = {}\n",
      "drug_entities_list = []\n",
      "for key,values in drug_entities_dict.items():\n",
      "    drug_entities_articles_dict[key] = []\n",
      "    for value in values:\n",
      "        value = ''.join([i for i in value if not i.isdigit()])\n",
      "        value = value.lstrip()\n",
      "        value = value.split(\" \")\n",
      "        substance = value[0]\n",
      "        substance = substance.lower()\n",
      "        substance = substance.rstrip()\n",
      "        substance = substance.replace(\",\",\"\")\n",
      "        if substance not in drug_entities_articles_dict[key]:\n",
      "            drug_entities_articles_dict[key].append(substance)\n",
      "        if substance not in drug_entities_list:\n",
      "            drug_entities_list.append(substance)\n",
      "\n",
      "feature_output = {}\n",
      "for key,values in drug_entities_articles_dict.items():\n",
      "    feature_output[key] = {}\n",
      "    for drug in drug_entities_list:\n",
      "        if drug in values:\n",
      "            feature_output[key][drug] = '1'\n",
      "        else:\n",
      "            feature_output[key][drug] = '0'\n",
      "\n",
      "import pandas as pd\n",
      "\n",
      "df = pd.DataFrame.from_dict(feature_output)\n",
      "df = df.transpose()\n",
      "# print df\n",
      "df.to_csv('/Users/phuong/Documents/AAAI_Project/Drug_Entities_Titles.csv')\n",
      "\n",
      "        \n",
      "\n",
      "\n",
      "\n",
      "            \n",
      "            \n",
      "\n",
      "\n",
      "                  "
     ],
     "language": "python",
     "metadata": {},
     "outputs": [
      {
       "output_type": "stream",
       "stream": "stdout",
       "text": [
        "Lack of pharmacokinetic interaction of mipomersen sodium (ISIS 301012), a 2'-O-methoxyethyl modified antisense oligonucleotide targeting apolipoprotein B-100 messenger RNA, with simvastatin and ezetimibe.\n",
        "Pharmacokinetic interactions between alitretinoin and ketoconazole or simvastatin or ciclosporin A.\n",
        "Drug interaction between oral atorvastatin and verapamil in healthy subjects: effects of atorvastatin on the pharmacokinetics of verapamil and norverapamil.\n",
        "The effects of acetaminophen on pharmacokinetics and pharmacodynamics of warfarin.\n",
        "Effects of duloxetine on the pharmacodynamics and pharmacokinetics of warfarin at steady state in healthy subjects.\n",
        "Effect of gemfibrozil and fenofibrate on the pharmacokinetics of atorvastatin.\n",
        "Effect of a single-dose rifampin on the pharmacokinetics of pitavastatin in healthy volunteers.\n",
        "Safety, tolerability, pharmacodynamics, and pharmacokinetics of rivaroxaban--an oral, direct factor Xa inhibitor--are not affected by aspirin.\n"
       ]
      },
      {
       "ename": "IndexError",
       "evalue": "list index out of range",
       "output_type": "pyerr",
       "traceback": [
        "\u001b[0;31m---------------------------------------------------------------------------\u001b[0m\n\u001b[0;31mIndexError\u001b[0m                                Traceback (most recent call last)",
        "\u001b[0;32m<ipython-input-4-2063d5c759de>\u001b[0m in \u001b[0;36m<module>\u001b[0;34m()\u001b[0m\n\u001b[1;32m     13\u001b[0m             \u001b[0mcount\u001b[0m \u001b[0;34m=\u001b[0m \u001b[0mcount\u001b[0m \u001b[0;34m+\u001b[0m \u001b[0;36m1\u001b[0m\u001b[0;34m\u001b[0m\u001b[0m\n\u001b[1;32m     14\u001b[0m             \u001b[0mstring\u001b[0m \u001b[0;34m=\u001b[0m \u001b[0;34m'tx.'\u001b[0m \u001b[0;34m+\u001b[0m \u001b[0mstr\u001b[0m\u001b[0;34m(\u001b[0m\u001b[0mcount\u001b[0m\u001b[0;34m)\u001b[0m \u001b[0;34m+\u001b[0m \u001b[0;34m\": \"\u001b[0m\u001b[0;34m\u001b[0m\u001b[0m\n\u001b[0;32m---> 15\u001b[0;31m             \u001b[0mtitle\u001b[0m \u001b[0;34m=\u001b[0m \u001b[0mline\u001b[0m\u001b[0;34m.\u001b[0m\u001b[0msplit\u001b[0m\u001b[0;34m(\u001b[0m\u001b[0mstring\u001b[0m\u001b[0;34m)\u001b[0m\u001b[0;34m[\u001b[0m\u001b[0;36m1\u001b[0m\u001b[0;34m]\u001b[0m\u001b[0;34m\u001b[0m\u001b[0m\n\u001b[0m\u001b[1;32m     16\u001b[0m             \u001b[0mtitle\u001b[0m \u001b[0;34m=\u001b[0m \u001b[0mtitle\u001b[0m\u001b[0;34m.\u001b[0m\u001b[0mlstrip\u001b[0m\u001b[0;34m(\u001b[0m\u001b[0;34m)\u001b[0m\u001b[0;34m\u001b[0m\u001b[0m\n\u001b[1;32m     17\u001b[0m             \u001b[0mtitle\u001b[0m \u001b[0;34m=\u001b[0m \u001b[0mtitle\u001b[0m\u001b[0;34m.\u001b[0m\u001b[0mrstrip\u001b[0m\u001b[0;34m(\u001b[0m\u001b[0;34m)\u001b[0m\u001b[0;34m\u001b[0m\u001b[0m\n",
        "\u001b[0;31mIndexError\u001b[0m: list index out of range"
       ]
      }
     ],
     "prompt_number": 4
    },
    {
     "cell_type": "code",
     "collapsed": false,
     "input": [],
     "language": "python",
     "metadata": {},
     "outputs": [],
     "prompt_number": 61
    },
    {
     "cell_type": "code",
     "collapsed": false,
     "input": [],
     "language": "python",
     "metadata": {},
     "outputs": []
    }
   ],
   "metadata": {}
  }
 ]
}